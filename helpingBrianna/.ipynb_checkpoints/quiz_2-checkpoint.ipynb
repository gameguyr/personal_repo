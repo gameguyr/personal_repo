{
 "cells": [
  {
   "cell_type": "markdown",
   "metadata": {},
   "source": [
    "# Question"
   ]
  },
  {
   "cell_type": "raw",
   "metadata": {},
   "source": [
    "NAMES = ['Alice', 'Bob', 'Cathy', 'Dan', 'Ed', 'Frank','Gary', 'Helen', 'Irene', 'Jack', 'Kelly', 'Larry'] "
   ]
  },
  {
   "cell_type": "markdown",
   "metadata": {},
   "source": [
    "- Use numpy random seed of 1234\n",
    "- For the list of Names given above, randomly generate another list of ages with the same length as Names using Numpy. Ages should be between 17 and 25\n",
    "- How old is Dan?\n",
    "- Create a dictionary that has two keys 'Names' and 'ages'. The value in the key names is the list of names and the value in ages should be the list of random ages you generated\n",
    "- Using the dictionary, form a pandas data frame\n",
    "- Find out how many people older than 21\n",
    "- What is the average age for all the people in the list\n",
    "- How many names has five charachters \n",
    "- Generate a column called state. The elements of the column state should be Ohio whenever the number of charachters in a person's name is 3 or less and California whenever it is four and Oregon for five or more \n",
    "- Add the new array state as a new column in the data frame\n",
    "- is there any duplicates in the data?\n",
    "- How many of the given names live in California and what is the average age for them?\n",
    "- plot a histogram for the ages"
   ]
  },
  {
   "cell_type": "code",
   "execution_count": 3,
   "metadata": {},
   "outputs": [],
   "source": [
    "# solve here\n",
    "import numpy as np\n"
   ]
  },
  {
   "cell_type": "code",
   "execution_count": 4,
   "metadata": {},
   "outputs": [],
   "source": [
    "np.random.seed(1234)\n",
    "import random\n",
    "import pandas as pd"
   ]
  },
  {
   "cell_type": "code",
   "execution_count": 5,
   "metadata": {},
   "outputs": [
    {
     "data": {
      "text/plain": [
       "['Alice',\n",
       " 'Bob',\n",
       " 'Cathy',\n",
       " 'Dan',\n",
       " 'Ed',\n",
       " 'Frank',\n",
       " 'Gary',\n",
       " 'Helen',\n",
       " 'Irene',\n",
       " 'Jack',\n",
       " 'Kelly',\n",
       " 'Larry']"
      ]
     },
     "execution_count": 5,
     "metadata": {},
     "output_type": "execute_result"
    }
   ],
   "source": [
    "NAMES = ['Alice', 'Bob', 'Cathy', 'Dan', 'Ed', 'Frank','Gary', 'Helen', 'Irene', 'Jack', 'Kelly', 'Larry'] \n",
    "NAMES"
   ]
  },
  {
   "cell_type": "code",
   "execution_count": 6,
   "metadata": {},
   "outputs": [
    {
     "data": {
      "text/plain": [
       "[22, 20, 18, 24, 23, 19, 23, 18, 22, 19, 24, 22]"
      ]
     },
     "execution_count": 6,
     "metadata": {},
     "output_type": "execute_result"
    }
   ],
   "source": [
    "AGES = [random.randrange(17,25,1) for i in range(12)]\n",
    "AGES"
   ]
  },
  {
   "cell_type": "code",
   "execution_count": 55,
   "metadata": {},
   "outputs": [
    {
     "data": {
      "text/plain": [
       "22"
      ]
     },
     "execution_count": 55,
     "metadata": {},
     "output_type": "execute_result"
    }
   ],
   "source": [
    "#how old is dan\n",
    "AGES[3]"
   ]
  },
  {
   "cell_type": "code",
   "execution_count": 7,
   "metadata": {},
   "outputs": [
    {
     "name": "stdout",
     "output_type": "stream",
     "text": [
      "{'Age': [22, 20, 18, 24, 23, 19, 23, 18, 22, 19, 24, 22], 'Name': ['Alice', 'Bob', 'Cathy', 'Dan', 'Ed', 'Frank', 'Gary', 'Helen', 'Irene', 'Jack', 'Kelly', 'Larry']}\n"
     ]
    }
   ],
   "source": [
    "#create dictionary\n",
    "dict1 = {\"Age\" : AGES, \"Name\" : NAMES}\n",
    "print(dict1)"
   ]
  },
  {
   "cell_type": "code",
   "execution_count": 8,
   "metadata": {},
   "outputs": [
    {
     "data": {
      "text/html": [
       "<div>\n",
       "<style scoped>\n",
       "    .dataframe tbody tr th:only-of-type {\n",
       "        vertical-align: middle;\n",
       "    }\n",
       "\n",
       "    .dataframe tbody tr th {\n",
       "        vertical-align: top;\n",
       "    }\n",
       "\n",
       "    .dataframe thead th {\n",
       "        text-align: right;\n",
       "    }\n",
       "</style>\n",
       "<table border=\"1\" class=\"dataframe\">\n",
       "  <thead>\n",
       "    <tr style=\"text-align: right;\">\n",
       "      <th></th>\n",
       "      <th>Age</th>\n",
       "      <th>Name</th>\n",
       "    </tr>\n",
       "  </thead>\n",
       "  <tbody>\n",
       "    <tr>\n",
       "      <th>0</th>\n",
       "      <td>22</td>\n",
       "      <td>Alice</td>\n",
       "    </tr>\n",
       "    <tr>\n",
       "      <th>1</th>\n",
       "      <td>20</td>\n",
       "      <td>Bob</td>\n",
       "    </tr>\n",
       "    <tr>\n",
       "      <th>2</th>\n",
       "      <td>18</td>\n",
       "      <td>Cathy</td>\n",
       "    </tr>\n",
       "    <tr>\n",
       "      <th>3</th>\n",
       "      <td>24</td>\n",
       "      <td>Dan</td>\n",
       "    </tr>\n",
       "    <tr>\n",
       "      <th>4</th>\n",
       "      <td>23</td>\n",
       "      <td>Ed</td>\n",
       "    </tr>\n",
       "    <tr>\n",
       "      <th>5</th>\n",
       "      <td>19</td>\n",
       "      <td>Frank</td>\n",
       "    </tr>\n",
       "    <tr>\n",
       "      <th>6</th>\n",
       "      <td>23</td>\n",
       "      <td>Gary</td>\n",
       "    </tr>\n",
       "    <tr>\n",
       "      <th>7</th>\n",
       "      <td>18</td>\n",
       "      <td>Helen</td>\n",
       "    </tr>\n",
       "    <tr>\n",
       "      <th>8</th>\n",
       "      <td>22</td>\n",
       "      <td>Irene</td>\n",
       "    </tr>\n",
       "    <tr>\n",
       "      <th>9</th>\n",
       "      <td>19</td>\n",
       "      <td>Jack</td>\n",
       "    </tr>\n",
       "    <tr>\n",
       "      <th>10</th>\n",
       "      <td>24</td>\n",
       "      <td>Kelly</td>\n",
       "    </tr>\n",
       "    <tr>\n",
       "      <th>11</th>\n",
       "      <td>22</td>\n",
       "      <td>Larry</td>\n",
       "    </tr>\n",
       "  </tbody>\n",
       "</table>\n",
       "</div>"
      ],
      "text/plain": [
       "    Age   Name\n",
       "0    22  Alice\n",
       "1    20    Bob\n",
       "2    18  Cathy\n",
       "3    24    Dan\n",
       "4    23     Ed\n",
       "5    19  Frank\n",
       "6    23   Gary\n",
       "7    18  Helen\n",
       "8    22  Irene\n",
       "9    19   Jack\n",
       "10   24  Kelly\n",
       "11   22  Larry"
      ]
     },
     "execution_count": 8,
     "metadata": {},
     "output_type": "execute_result"
    }
   ],
   "source": [
    "# form pandas data frame\n",
    "df = pd.DataFrame(data = dict1) \n",
    "df"
   ]
  },
  {
   "cell_type": "code",
   "execution_count": 42,
   "metadata": {},
   "outputs": [
    {
     "name": "stdout",
     "output_type": "stream",
     "text": [
      "Number of people older than 21:\n",
      "7\n",
      "7\n"
     ]
    }
   ],
   "source": [
    "#how many people are older than 21?\n",
    "\n",
    "## FROM RUSSELL:  Since they just want a number you want to use the \"shape\" which is either # rows or # columns\n",
    "# you can use len() function\n",
    "\n",
    "print(\"Number of people older than 21:\")\n",
    "print(df[df['Age']>21].shape[0])\n",
    "print(len(df[df['Age']>21]))"
   ]
  },
  {
   "cell_type": "code",
   "execution_count": 58,
   "metadata": {},
   "outputs": [
    {
     "data": {
      "text/plain": [
       "21.166666666666668"
      ]
     },
     "execution_count": 58,
     "metadata": {},
     "output_type": "execute_result"
    }
   ],
   "source": [
    "#average age of people listed\n",
    "averageage = df.Age.mean()\n",
    "averageage"
   ]
  },
  {
   "cell_type": "code",
   "execution_count": 43,
   "metadata": {},
   "outputs": [
    {
     "name": "stdout",
     "output_type": "stream",
     "text": [
      "7\n",
      "7\n"
     ]
    }
   ],
   "source": [
    "#how many names have 5 characters\n",
    "dflength = df['Name'].str.len()\n",
    "dflength\n",
    "\n",
    "\n",
    "## FROM RUSSELL:\n",
    "# make an index that matches the criteria of having a length of 5\n",
    "russ_length_index = df['Name'].map(len) == 5\n",
    "# return the dataframe using the index we just created\n",
    "df[russ_length_index]\n",
    "# now we just want the number of rows as a number\n",
    "# df.shape[0] will give you the number of rows\n",
    "# df.shape[1] will give you the number of columns\n",
    "# you can use len() function\n",
    "\n",
    "print(df[russ_length_index].shape[0])\n",
    "print(len(df[russ_length_index]))"
   ]
  },
  {
   "cell_type": "code",
   "execution_count": 26,
   "metadata": {},
   "outputs": [
    {
     "data": {
      "text/plain": [
       "5    7\n",
       "4    2\n",
       "3    2\n",
       "2    1\n",
       "Name: Name, dtype: int64"
      ]
     },
     "execution_count": 26,
     "metadata": {},
     "output_type": "execute_result"
    }
   ],
   "source": [
    "dflength.value_counts()\n",
    "\n",
    "#7"
   ]
  },
  {
   "cell_type": "code",
   "execution_count": 50,
   "metadata": {},
   "outputs": [
    {
     "name": "stdout",
     "output_type": "stream",
     "text": [
      "Here is the datframe after adding the State column\n",
      "\n",
      "\n",
      "    Age   Name Sex       State      State2\n",
      "0    22  Alice   f      Oregon      Oregon\n",
      "1    20    Bob   m        Ohio        Ohio\n",
      "2    18  Cathy   f      Oregon      Oregon\n",
      "3    24    Dan   m        Ohio        Ohio\n",
      "4    23     Ed   m        Ohio        Ohio\n",
      "5    19  Frank   m      Oregon      Oregon\n",
      "6    23   Gary   m  California  California\n",
      "7    18  Helen   f      Oregon      Oregon\n",
      "8    22  Irene   f      Oregon      Oregon\n",
      "9    19   Jack   m  California  California\n",
      "10   24  Kelly   f      Oregon      Oregon\n",
      "11   22  Larry   m      Oregon      Oregon\n",
      "\n",
      "\n",
      "Here is the datframe after adding the State2 column\n",
      "\n",
      "\n",
      "    Age   Name Sex       State      State2\n",
      "0    22  Alice   f      Oregon      Oregon\n",
      "1    20    Bob   m        Ohio        Ohio\n",
      "2    18  Cathy   f      Oregon      Oregon\n",
      "3    24    Dan   m        Ohio        Ohio\n",
      "4    23     Ed   m        Ohio        Ohio\n",
      "5    19  Frank   m      Oregon      Oregon\n",
      "6    23   Gary   m  California  California\n",
      "7    18  Helen   f      Oregon      Oregon\n",
      "8    22  Irene   f      Oregon      Oregon\n",
      "9    19   Jack   m  California  California\n",
      "10   24  Kelly   f      Oregon      Oregon\n",
      "11   22  Larry   m      Oregon      Oregon\n"
     ]
    }
   ],
   "source": [
    "###****here is where I need help\n",
    "\n",
    "#Generate a column called state. The elements of the column state should be \n",
    "\n",
    "#Ohio whenever the number of charactersin a person's name is 3 or less\n",
    "#California whenever it is four\n",
    "#Oregon for five or more \n",
    "\n",
    "# State = [\"Ohio\", \"California\", \"Oregon\"]\n",
    "# State\n",
    "\n",
    "## FROM RUSSELL:\n",
    "## 1.) Brute Force / Easy Way  / not efficient\n",
    "\n",
    "# create an empty list\n",
    "state = []\n",
    "# loop through and use if-else staments to assign values to the list\n",
    "for i in range(0, len(df)):\n",
    "    if len(df[\"Name\"][i]) <= 3:\n",
    "        state.append(\"Ohio\")\n",
    "    elif len(df[\"Name\"][i]) == 4:\n",
    "        state.append(\"California\")\n",
    "    else:\n",
    "        state.append(\"Oregon\")\n",
    "        \n",
    "# add the list we just created as a column in the dataframe\n",
    "print(\"Here is the datframe after adding the State column\")\n",
    "print(\"\\n\")\n",
    "df[\"State\"] = state\n",
    "print(df)\n",
    "print(\"\\n\")\n",
    "\n",
    "\n",
    "## 2.) make function and map / Right Way  / Very efficient!\n",
    "\n",
    "# make a function that returns a String based on if else statments comparing the string length\n",
    "# the string in this case is \"name\"\n",
    "def assign_state(name):\n",
    "    if len(name) <= 3:\n",
    "        return \"Ohio\"\n",
    "    elif len(name) == 4:\n",
    "        return \"California\"\n",
    "    else:\n",
    "        return \"Oregon\"\n",
    "    \n",
    "df[\"State2\"] = df[\"Name\"].map(assign_state)\n",
    "print(\"Here is the datframe after adding the State2 column\")\n",
    "print(\"\\n\")\n",
    "print(df)\n",
    "# # state = []\n",
    "\n",
    "\n"
   ]
  },
  {
   "cell_type": "code",
   "execution_count": null,
   "metadata": {},
   "outputs": [],
   "source": [
    "#Add the new array state as a new column in the data frame"
   ]
  },
  {
   "cell_type": "code",
   "execution_count": 49,
   "metadata": {},
   "outputs": [
    {
     "data": {
      "text/plain": [
       "0"
      ]
     },
     "execution_count": 49,
     "metadata": {},
     "output_type": "execute_result"
    }
   ],
   "source": [
    "#is there any duplicates in the data?\n",
    "duplicate_imdbdf = df.duplicated()\n",
    "duplicate_imdbdf.values.sum()"
   ]
  },
  {
   "cell_type": "code",
   "execution_count": null,
   "metadata": {},
   "outputs": [],
   "source": [
    "#How many of the given names live in California and what is the average age for them?\n"
   ]
  },
  {
   "cell_type": "code",
   "execution_count": 53,
   "metadata": {},
   "outputs": [
    {
     "data": {
      "text/plain": [
       "array([[<matplotlib.axes._subplots.AxesSubplot object at 0x000001CEA21BEE20>]],\n",
       "      dtype=object)"
      ]
     },
     "execution_count": 53,
     "metadata": {},
     "output_type": "execute_result"
    },
    {
     "data": {
      "image/png": "[encoded data removed]",
      "text/plain": [
       "<Figure size 432x288 with 1 Axes>"
      ]
     },
     "metadata": {
      "needs_background": "light"
     },
     "output_type": "display_data"
    }
   ],
   "source": [
    "#plot a histogram for the ages\n",
    "\n",
    "df.hist(column='Age', bins=3)"
   ]
  },
  {
   "cell_type": "code",
   "execution_count": null,
   "metadata": {},
   "outputs": [],
   "source": []
  }
 ],
 "metadata": {
  "kernelspec": {
   "display_name": "Python 3",
   "language": "python",
   "name": "python3"
  },
  "language_info": {
   "codemirror_mode": {
    "name": "ipython",
    "version": 3
   },
   "file_extension": ".py",
   "mimetype": "text/x-python",
   "name": "python",
   "nbconvert_exporter": "python",
   "pygments_lexer": "ipython3",
   "version": "3.7.6"
  }
 },
 "nbformat": 4,
 "nbformat_minor": 4
}
